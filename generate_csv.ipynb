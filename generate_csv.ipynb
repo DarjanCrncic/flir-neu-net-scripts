{
 "cells": [
  {
   "cell_type": "code",
   "execution_count": 6,
   "id": "3682434f",
   "metadata": {},
   "outputs": [],
   "source": [
    "def convert_coco_json_to_csv(filename, img_folder_path, id_limit, scale_x, scale_y):\n",
    "    import pandas as pd\n",
    "    import json\n",
    "    \n",
    "    # COCO2017/annotations/instances_val2017.json\n",
    "    s = json.load(open(filename, 'r'))\n",
    "    out_file = filename[:-5] + '.csv'\n",
    "    out = open(out_file, 'w')\n",
    "    out.write('images,x1,y1,x2,y2,label\\n')\n",
    "\n",
    "    cat_id_to_label = {}\n",
    "    for cat in s['categories']:\n",
    "        cat_id_to_label[cat['id']] = cat['name']\n",
    "        \n",
    "    all_ids = []\n",
    "    for im in s['images']:\n",
    "        all_ids.append(im['id'])\n",
    "\n",
    "    all_ids_ann = []\n",
    "    for ann in s['annotations']:\n",
    "        image_id = ann['image_id']\n",
    "        if image_id > id_limit: break\n",
    "        file_name = s['images'][image_id]['file_name'].replace('data/','')\n",
    "        all_ids_ann.append(image_id)\n",
    "        x1 = ann['bbox'][0]\n",
    "        x2 = ann['bbox'][0] + ann['bbox'][2]\n",
    "        y1 = ann['bbox'][1]\n",
    "        y2 = ann['bbox'][1] + ann['bbox'][3]\n",
    "        \n",
    "        x1 = round(x1*scale_x)\n",
    "        x2 = round(x2*scale_x)\n",
    "        y1 = round(y1*scale_y)\n",
    "        y2 = round(y2*scale_y)\n",
    "        \n",
    "        label = cat_id_to_label[ann['category_id']]\n",
    "        out.write('{},{},{},{},{},{}\\n'.format(img_folder_path + file_name, x1, y1, x2, y2, label))\n",
    "\n",
    "    all_ids = set(all_ids)\n",
    "    all_ids_ann = set(all_ids_ann)\n",
    "    no_annotations = list(all_ids - all_ids_ann)\n",
    "    # Output images without any annotations\n",
    "    for image_id in no_annotations:\n",
    "        if image_id <= id_limit:\n",
    "            out.write('{},{},{},{},{},{}\\n'.format(img_folder_path + file_name, -1, -1, -1, -1, -1))\n",
    "    out.close()\n",
    "\n",
    "    # Sort file by image id\n",
    "    s1 = pd.read_csv(out_file)\n",
    "    s1.sort_values('images', inplace=True)\n",
    "    s1.to_csv(out_file, index=False)"
   ]
  },
  {
   "cell_type": "code",
   "execution_count": 7,
   "id": "8c4a8cc0",
   "metadata": {},
   "outputs": [],
   "source": [
    "convert_coco_json_to_csv('./images_thermal_train/coco.json', 'C:/Users/darjan.crncic/Documents/flir_dataset/images_thermal_train/data/', 200, 224/640, 224/512)"
   ]
  },
  {
   "cell_type": "code",
   "execution_count": 8,
   "id": "14dd85d4",
   "metadata": {},
   "outputs": [],
   "source": [
    "convert_coco_json_to_csv('./images_rgb_train/coco.json', 'C:/Users/darjan.crncic/Documents/flir_dataset/images_rgb_train/data/', 200, 224/1800, 224/1600)"
   ]
  },
  {
   "cell_type": "code",
   "execution_count": null,
   "id": "b3e3bd1b",
   "metadata": {},
   "outputs": [],
   "source": []
  }
 ],
 "metadata": {
  "kernelspec": {
   "display_name": "Python 3 (ipykernel)",
   "language": "python",
   "name": "python3"
  },
  "language_info": {
   "codemirror_mode": {
    "name": "ipython",
    "version": 3
   },
   "file_extension": ".py",
   "mimetype": "text/x-python",
   "name": "python",
   "nbconvert_exporter": "python",
   "pygments_lexer": "ipython3",
   "version": "3.9.7"
  }
 },
 "nbformat": 4,
 "nbformat_minor": 5
}
